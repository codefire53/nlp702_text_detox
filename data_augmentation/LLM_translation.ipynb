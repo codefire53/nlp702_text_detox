{
 "cells": [
  {
   "cell_type": "code",
   "execution_count": 3,
   "metadata": {},
   "outputs": [],
   "source": [
    "import json\n",
    "from openai import OpenAI\n",
    "import ast\n",
    "from datasets import load_dataset\n",
    "import random\n",
    "import pandas as pd\n",
    "from tqdm import tqdm"
   ]
  },
  {
   "cell_type": "code",
   "execution_count": 2,
   "metadata": {},
   "outputs": [],
   "source": [
    "api_key = \"\"\n",
    "client = OpenAI(api_key=api_key)"
   ]
  },
  {
   "cell_type": "code",
   "execution_count": 1,
   "metadata": {},
   "outputs": [],
   "source": [
    "# dataset_ru = load_dataset(\"s-nlp/ru_paradetox\")\n",
    "# dataset_eng = load_dataset(\"s-nlp/paradetox\")\n",
    "# ru_samples = random.sample(list(dataset_ru[\"train\"]), 140)\n",
    "# en_samples = random.sample(list(dataset_eng[\"train\"]), 210)\n",
    "# df_ru = pd.DataFrame.from_dict(ru_samples)\n",
    "# df_en = pd.DataFrame.from_dict(en_samples)\n",
    "# df_ru.to_csv(\"ru_samples.tsv\", sep=\"\\t\")\n",
    "# df_en.to_csv(\"en_samples.tsv\", sep=\"\\t\")"
   ]
  },
  {
   "cell_type": "code",
   "execution_count": 3,
   "metadata": {},
   "outputs": [],
   "source": [
    "prompt_file = open(\"translation_prompt.json\")\n",
    "data = json.load(prompt_file)\n",
    "prompt_file.close()"
   ]
  },
  {
   "cell_type": "code",
   "execution_count": 32,
   "metadata": {},
   "outputs": [],
   "source": [
    "target_languages = [\n",
    "    \"Ukrainian\",\n",
    "    \"German\",\n",
    "    \"Spanish\",\n",
    "    \"Chinese\",\n",
    "    \"Amharic\",\n",
    "    \"Arabic\",\n",
    "    \"Hindi\"\n",
    "]"
   ]
  },
  {
   "cell_type": "code",
   "execution_count": 4,
   "metadata": {},
   "outputs": [],
   "source": [
    "df_ru = pd.read_csv(\"ru_samples.tsv\", sep=\"\\t\", index_col=0)\n",
    "df_en = pd.read_csv(\"en_samples.tsv\", sep=\"\\t\", index_col=0)\n",
    "ru_samples = list(df_ru.T.to_dict().values())\n",
    "en_samples = list(df_en.T.to_dict().values())"
   ]
  },
  {
   "cell_type": "code",
   "execution_count": 9,
   "metadata": {},
   "outputs": [],
   "source": [
    "def get_completion(prompt, model=\"gpt-4\"):\n",
    "    messages = [{\"role\": \"system\", \"content\": prompt}]\n",
    "    response = client.chat.completions.create(\n",
    "        model=model,\n",
    "        messages=messages,\n",
    "        temperature=0.4\n",
    "    )\n",
    "    return response.choices[0].message.content"
   ]
  },
  {
   "cell_type": "code",
   "execution_count": 23,
   "metadata": {},
   "outputs": [],
   "source": [
    "def translate_from_eng(target_language, examples):\n",
    "    prompt = data[\"prompt\"]\n",
    "    prompt = prompt.replace(\"SOURCE_LANGUAGE\", \"English\")\n",
    "    prompt = prompt.replace(\"TARGET_LANGUAGE\", target_language)\n",
    "    examples = [f\"TOXIC: {example['en_toxic_comment']} NON-TOXIC: {example['en_neutral_comment']}\" for example in examples]\n",
    "    examples = \"\\n\".join(examples)\n",
    "    prompt = prompt.replace(\"EXAMPLES\", examples)\n",
    "    response = get_completion(prompt)\n",
    "    try:\n",
    "        response = ast.literal_eval(response)\n",
    "    except:\n",
    "        response = response.replace('\"', '\\\\\"')\n",
    "        response = response.replace(\"('\", '(\"')\n",
    "        response = response.replace(\"', '\", '\", \"')\n",
    "        response = response.replace(\"')\", '\")')\n",
    "        try:\n",
    "            response = ast.literal(response)\n",
    "        except:\n",
    "            print(response)\n",
    "    return response"
   ]
  },
  {
   "cell_type": "code",
   "execution_count": 26,
   "metadata": {},
   "outputs": [
    {
     "name": "stderr",
     "output_type": "stream",
     "text": [
      "  0%|          | 0/7 [00:00<?, ?it/s]"
     ]
    },
    {
     "name": "stdout",
     "output_type": "stream",
     "text": [
      "Translating to Ukrainian\n"
     ]
    },
    {
     "name": "stderr",
     "output_type": "stream",
     "text": []
    },
    {
     "name": "stdout",
     "output_type": "stream",
     "text": [
      "Translating to Ukrainian\n"
     ]
    },
    {
     "name": "stderr",
     "output_type": "stream",
     "text": []
    },
    {
     "name": "stdout",
     "output_type": "stream",
     "text": [
      "Translating to Ukrainian\n"
     ]
    },
    {
     "name": "stderr",
     "output_type": "stream",
     "text": [
      "100%|██████████| 3/3 [01:08<00:00, 22.74s/it]\n",
      " 14%|█▍        | 1/7 [01:08<06:49, 68.27s/it]"
     ]
    },
    {
     "name": "stdout",
     "output_type": "stream",
     "text": [
      "Translating to German\n"
     ]
    },
    {
     "name": "stderr",
     "output_type": "stream",
     "text": []
    },
    {
     "name": "stdout",
     "output_type": "stream",
     "text": [
      "Translating to German\n"
     ]
    },
    {
     "name": "stderr",
     "output_type": "stream",
     "text": []
    },
    {
     "name": "stdout",
     "output_type": "stream",
     "text": [
      "Translating to German\n"
     ]
    },
    {
     "name": "stderr",
     "output_type": "stream",
     "text": [
      "100%|██████████| 3/3 [00:39<00:00, 13.20s/it]\n",
      " 29%|██▊       | 2/7 [01:47<04:17, 51.41s/it]"
     ]
    },
    {
     "name": "stdout",
     "output_type": "stream",
     "text": [
      "Translating to Spanish\n"
     ]
    },
    {
     "name": "stderr",
     "output_type": "stream",
     "text": []
    },
    {
     "name": "stdout",
     "output_type": "stream",
     "text": [
      "Translating to Spanish\n"
     ]
    },
    {
     "name": "stderr",
     "output_type": "stream",
     "text": []
    },
    {
     "name": "stdout",
     "output_type": "stream",
     "text": [
      "Translating to Spanish\n"
     ]
    },
    {
     "name": "stderr",
     "output_type": "stream",
     "text": [
      "100%|██████████| 3/3 [00:30<00:00, 10.27s/it]\n",
      " 43%|████▎     | 3/7 [02:18<02:48, 42.00s/it]"
     ]
    },
    {
     "name": "stdout",
     "output_type": "stream",
     "text": [
      "Translating to Chinese\n"
     ]
    },
    {
     "name": "stderr",
     "output_type": "stream",
     "text": []
    },
    {
     "name": "stdout",
     "output_type": "stream",
     "text": [
      "Translating to Chinese\n"
     ]
    },
    {
     "name": "stderr",
     "output_type": "stream",
     "text": []
    },
    {
     "name": "stdout",
     "output_type": "stream",
     "text": [
      "Translating to Chinese\n"
     ]
    },
    {
     "name": "stderr",
     "output_type": "stream",
     "text": [
      "100%|██████████| 3/3 [00:43<00:00, 14.61s/it]\n",
      " 57%|█████▋    | 4/7 [03:02<02:08, 42.73s/it]"
     ]
    },
    {
     "name": "stdout",
     "output_type": "stream",
     "text": [
      "Translating to Amharic\n"
     ]
    },
    {
     "name": "stderr",
     "output_type": "stream",
     "text": []
    },
    {
     "name": "stdout",
     "output_type": "stream",
     "text": [
      "Translating to Amharic\n"
     ]
    },
    {
     "name": "stderr",
     "output_type": "stream",
     "text": []
    },
    {
     "name": "stdout",
     "output_type": "stream",
     "text": [
      "Translating to Amharic\n"
     ]
    },
    {
     "name": "stderr",
     "output_type": "stream",
     "text": [
      "100%|██████████| 3/3 [02:53<00:00, 57.87s/it]\n",
      " 71%|███████▏  | 5/7 [05:56<02:59, 89.94s/it]"
     ]
    },
    {
     "name": "stdout",
     "output_type": "stream",
     "text": [
      "Translating to Arabic\n"
     ]
    },
    {
     "name": "stderr",
     "output_type": "stream",
     "text": []
    },
    {
     "name": "stdout",
     "output_type": "stream",
     "text": [
      "Translating to Arabic\n"
     ]
    },
    {
     "name": "stderr",
     "output_type": "stream",
     "text": []
    },
    {
     "name": "stdout",
     "output_type": "stream",
     "text": [
      "Translating to Arabic\n"
     ]
    },
    {
     "name": "stderr",
     "output_type": "stream",
     "text": [
      "100%|██████████| 3/3 [01:06<00:00, 22.07s/it]\n",
      " 86%|████████▌ | 6/7 [07:02<01:21, 81.88s/it]"
     ]
    },
    {
     "name": "stdout",
     "output_type": "stream",
     "text": [
      "Translating to Hindi\n"
     ]
    },
    {
     "name": "stderr",
     "output_type": "stream",
     "text": []
    },
    {
     "name": "stdout",
     "output_type": "stream",
     "text": [
      "Translating to Hindi\n"
     ]
    },
    {
     "name": "stderr",
     "output_type": "stream",
     "text": []
    },
    {
     "name": "stdout",
     "output_type": "stream",
     "text": [
      "Translating to Hindi\n"
     ]
    },
    {
     "name": "stderr",
     "output_type": "stream",
     "text": [
      "100%|██████████| 3/3 [05:13<00:00, 104.56s/it]\n",
      "100%|██████████| 7/7 [12:16<00:00, 105.16s/it]\n"
     ]
    }
   ],
   "source": [
    "counter_en = 0\n",
    "for target_language in tqdm(target_languages):\n",
    "    translated_samples = []\n",
    "    for i in tqdm(range(3)):\n",
    "        print(f\"Translating to {target_language}\")\n",
    "        translation = translate_from_eng(target_language, en_samples[counter_en:counter_en+10])\n",
    "        counter_en += 10\n",
    "        translated_samples.extend(translation)\n",
    "    \n",
    "    translated_dict = [{\"toxic\": sample[0], \"neutral\": sample[1]} for sample in translated_samples]\n",
    "    translated_df = pd.DataFrame.from_dict(translated_dict)\n",
    "    translated_df.to_csv(f\"translated_data/en_to_{target_language}.tsv\", sep=\"\\t\")"
   ]
  },
  {
   "cell_type": "code",
   "execution_count": 34,
   "metadata": {},
   "outputs": [],
   "source": [
    "def translate_from_ru(target_language, examples):\n",
    "    prompt = data[\"prompt\"]\n",
    "    prompt = prompt.replace(\"SOURCE_LANGUAGE\", \"Russian\")\n",
    "    prompt = prompt.replace(\"TARGET_LANGUAGE\", target_language)\n",
    "    examples = [f\"TOXIC: {example['ru_toxic_comment']} NON-TOXIC: {example['ru_neutral_comment']}\" for example in examples]\n",
    "    examples = \"\\n\".join(examples)\n",
    "    prompt = prompt.replace(\"EXAMPLES\", examples)\n",
    "    response = get_completion(prompt)\n",
    "    try:\n",
    "        response = ast.literal_eval(response)\n",
    "    except:\n",
    "        response = response.replace('\"', '\\\\\"')\n",
    "        response = response.replace(\"('\", '(\"')\n",
    "        response = response.replace(\"', '\", '\", \"')\n",
    "        response = response.replace(\"')\", '\")')\n",
    "        response = response.replace(\"Here are the translations:\\n\\n\", \"\")\n",
    "        response = response.replace(\"Sure, here are the translations:\\n\\n\", \"\")\n",
    "        try:\n",
    "            response = ast.literal(response)\n",
    "        except:\n",
    "            print(response)\n",
    "    return response"
   ]
  },
  {
   "cell_type": "code",
   "execution_count": 6,
   "metadata": {},
   "outputs": [],
   "source": [
    "counter_ru = 20\n",
    "for target_language in tqdm(target_languages):\n",
    "    translated_samples = []\n",
    "    for i in tqdm(range(2)):\n",
    "        print(f\"Translating to {target_language}\")\n",
    "        translation = translate_from_ru(target_language, ru_samples[counter_ru:counter_ru+10])\n",
    "        counter_ru += 10\n",
    "        translated_samples.extend(translation)\n",
    "    \n",
    "    translated_dict = [{\"toxic\": sample[0], \"neutral\": sample[1]} for sample in translated_samples]\n",
    "    translated_df = pd.DataFrame.from_dict(translated_dict)\n",
    "    translated_df.to_csv(f\"reanslated_data/ru_to_{target_language}.tsv\", sep=\"\\t\")"
   ]
  },
  {
   "cell_type": "code",
   "execution_count": null,
   "metadata": {},
   "outputs": [],
   "source": []
  }
 ],
 "metadata": {
  "kernelspec": {
   "display_name": "base",
   "language": "python",
   "name": "python3"
  },
  "language_info": {
   "codemirror_mode": {
    "name": "ipython",
    "version": 3
   },
   "file_extension": ".py",
   "mimetype": "text/x-python",
   "name": "python",
   "nbconvert_exporter": "python",
   "pygments_lexer": "ipython3",
   "version": "3.9.7"
  }
 },
 "nbformat": 4,
 "nbformat_minor": 2
}
